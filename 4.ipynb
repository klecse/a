{
 "cells": [
  {
   "cell_type": "code",
   "execution_count": 2,
   "id": "5b6e4ef8-4a36-43d9-a4a0-6836dd83847f",
   "metadata": {},
   "outputs": [
    {
     "name": "stdout",
     "output_type": "stream",
     "text": [
      "     sky  Temp Humidity    Wind Water Forecast EnjoySport\n",
      "0  sunny  warm   normal  strong  warm     same        Yes\n",
      "1  sunny  warm     high  strong  warm     same        Yes\n",
      "2  rainy  cold     high  strong  cool   change         No\n",
      "3  sunny  warm   normal    weak  warm     same        Yes\n",
      "4  rainy  cold     high    weak  cold   change         No\n",
      "5  sunny  warm   normal    weak  warm     same        Yes\n",
      "\n",
      " The Final hypothesis is:  ['sunny' 'warm' '?' '?' 'warm' 'same']\n"
     ]
    }
   ],
   "source": [
    "import pandas as pd\n",
    "import numpy as np\n",
    "\n",
    "data = pd.read_csv(\"data1.csv\")\n",
    "print(data)\n",
    "\n",
    "d = np.array(data)[:,:-1]\n",
    "target = np.array(data)[:, -1]\n",
    "\n",
    "def train(c,t):\n",
    "    for i, val in enumerate(t):\n",
    "        if val == \"Yes\":\n",
    "            specific_hypothesis = c[i].copy()\n",
    "            break\n",
    "    for i, val in enumerate(c):\n",
    "        if t[i] == \"Yes\":\n",
    "            for x in range(len(specific_hypothesis)):\n",
    "                if val[x] != specific_hypothesis[x]:\n",
    "                    specific_hypothesis[x] = '?'\n",
    "                else:\n",
    "                    pass\n",
    "    return specific_hypothesis\n",
    "print(\"\\n The Final hypothesis is: \",train(d,target))"
   ]
  },
  {
   "cell_type": "code",
   "execution_count": null,
   "id": "d70a5871-4895-4f5b-80c0-93cab20c9b79",
   "metadata": {},
   "outputs": [],
   "source": []
  }
 ],
 "metadata": {
  "kernelspec": {
   "display_name": "Python 3 (ipykernel)",
   "language": "python",
   "name": "python3"
  },
  "language_info": {
   "codemirror_mode": {
    "name": "ipython",
    "version": 3
   },
   "file_extension": ".py",
   "mimetype": "text/x-python",
   "name": "python",
   "nbconvert_exporter": "python",
   "pygments_lexer": "ipython3",
   "version": "3.11.9"
  }
 },
 "nbformat": 4,
 "nbformat_minor": 5
}
